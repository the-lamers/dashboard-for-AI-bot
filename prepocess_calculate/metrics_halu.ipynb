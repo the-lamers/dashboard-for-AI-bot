{
  "cells": [
    {
      "cell_type": "markdown",
      "source": [
        "# Математическая модель метрики \"степень галлюцинации\"\n",
        "---\n",
        "#### Входные данные:\n",
        "- $C$ = ${c_1, c_2, ..., c_n}$ — список контекстов (строк), где $n$ — количество контекстов.\n",
        "- $O$ — строка, представляющая вывод модели (ответ).\n",
        "\n",
        "#### Шаг 1: Извлечение ключевых слов\n",
        "Для каждой строки $x$ (контекста или вывода модели) определяется множество ключевых слов:\n",
        "$$\n",
        "K(x) = \\{ w \\mid w \\in x.split(), w \\notin S, len(w) > 3 \\}\n",
        "$$\n",
        "- $w$ — слово в нижнем регистре.\n",
        "- $S$ — множество стоп-слов (на русском языке).\n",
        "- Условие $$w \\notin S$$ исключает стоп-слова.\n",
        "- Условие $len(w) > 3$ исключает короткие слова.\n",
        "\n",
        "Множества ключевых слов:\n",
        "- $K_C = \\bigcup_{i=1}^n K(c_i)$ — объединение ключевых слов всех контекстов.\n",
        "- $K_O = K(O)$ — ключевые слова из вывода модели.\n",
        "\n",
        "#### Шаг 2: Jaccard-подобная схожесть ключевых слов\n",
        "Схожесть между контекстом и выводом по ключевым словам вычисляется как:\n",
        "$$\n",
        "J = \\frac{|K_C \\cap K_O|}{\\max(|K_O|, 1)}\n",
        "$$\n",
        "- $|K_C \\cap K_O|$ — количество общих ключевых слов.\n",
        "- $max(|K_O|, 1)$ — нормализация по количеству слов в выводе (избегаем деления на 0).\n",
        "- Это отражает долю пересечения ключевых слов, избегая чрезмерного штрафа за краткость ответа.\n",
        "\n",
        "#### Шаг 3: BLEU-оценка\n",
        "Для каждого контекста $c_i$ вычисляется BLEU-оценка между $c_i$ и $O$:\n",
        "$$\n",
        "B_i = BLEU(c_i.split(), O.split(), w)\n",
        "$$\n",
        "- $w = (0.7, 0.3, 0, 0)$ — веса для униграмм $(70%)$ и биграмм $(30%)$, триграммы и выше не учитываются.\n",
        "- Если возникает $ZeroDivisionError,B_i = 0$.\n",
        "\n",
        "Средняя BLEU-оценка по всем контекстам:\n",
        "$\n",
        "B = \\frac{1}{n} \\sum_{i=1}^n B_i \\quad \\text{(или 0, если } n = 0\\text{)}\n",
        "$\n",
        "\n",
        "#### Шаг 4: Штраф за неожиданные слова\n",
        "Неожиданные слова — это слова в выводе, отсутствующие в контексте:\n",
        "$\n",
        "U = K_O \\setminus K_C\n",
        "$\n",
        "Штраф за неожиданные слова:\n",
        "$$\n",
        "P = \\begin{cases}\n",
        "\\frac{|U|}{|K_O| + \\epsilon} & \\text{если } U \\neq \\emptyset, \\\\\n",
        "0 & \\text{если } U = \\emptyset,\n",
        "\\end{cases}\n",
        "$$\n",
        "- $epsilon = 10^{-6}$ — малая константа для избежания деления на 0.\n",
        "- Штраф пропорционален доле неожиданных слов в выводе.\n",
        "\n",
        "#### Шаг 5: Итоговый коэффициент\n",
        "Итоговая метрика \"степень галлюцинации\" (точнее, степень правдоподобности) вычисляется как:\n",
        "$\n",
        "H = \\left( 0.6 \\cdot B + 0.4 \\cdot J \\right) \\cdot (1 - P)\n",
        "$\n",
        "- $0.6 \\cdot B$ — вклад BLEU-оценки (60%).\n",
        "- $0.4 \\cdot J$ — вклад пересечения ключевых слов (40%).\n",
        "- $(1 - P)$ — множитель, уменьшающий итоговую оценку при наличии неожиданных слов.\n",
        "\n",
        "Ограничение на отрицательные значения:\n",
        "$\n",
        "H_{final} = \\max(H, 0)\n",
        "$\n",
        "\n",
        "---\n",
        "\n",
        "### Интерпретация\n",
        "- $H_{final} \\in [0, 1]$:\n",
        "  - $H_{final} \\in [0, 0.35]$: Вывод модели полностью соответствует контексту (высокий BLEU, большое пересечение ключевых слов, нет неожиданных слов).\n",
        "  - $H_{final} \\in [0, 0.35]$: Вывод модели сильно отклоняется от контекста (низкий BLEU, мало общих слов, много неожиданных слов).\n",
        "- Чем выше $H_{final}$, тем меньше \"галлюцинаций\" в ответе."
      ],
      "metadata": {
        "id": "G4sv3lHhHwzQ"
      }
    },
    {
      "cell_type": "code",
      "source": [
        "!pip install nltk numpy collection typing"
      ],
      "metadata": {
        "id": "KLWyjs5BP-c9",
        "colab": {
          "base_uri": "https://localhost:8080/"
        },
        "collapsed": true,
        "outputId": "5e1fbdfb-e239-4e7f-b8ba-90a3da61c76d"
      },
      "execution_count": 1,
      "outputs": [
        {
          "output_type": "stream",
          "name": "stdout",
          "text": [
            "Requirement already satisfied: nltk in /usr/local/lib/python3.11/dist-packages (3.9.1)\n",
            "Requirement already satisfied: numpy in /usr/local/lib/python3.11/dist-packages (1.26.4)\n",
            "Requirement already satisfied: collection in /usr/local/lib/python3.11/dist-packages (0.1.6)\n",
            "Requirement already satisfied: typing in /usr/local/lib/python3.11/dist-packages (3.7.4.3)\n",
            "Requirement already satisfied: click in /usr/local/lib/python3.11/dist-packages (from nltk) (8.1.8)\n",
            "Requirement already satisfied: joblib in /usr/local/lib/python3.11/dist-packages (from nltk) (1.4.2)\n",
            "Requirement already satisfied: regex>=2021.8.3 in /usr/local/lib/python3.11/dist-packages (from nltk) (2024.11.6)\n",
            "Requirement already satisfied: tqdm in /usr/local/lib/python3.11/dist-packages (from nltk) (4.67.1)\n"
          ]
        }
      ]
    },
    {
      "cell_type": "code",
      "source": [
        "import nltk\n",
        "import numpy as np\n",
        "from nltk.translate import bleu_score\n",
        "from nltk.corpus import stopwords\n",
        "from collections import Counter\n",
        "from typing import List\n",
        "\n",
        "nltk.download('stopwords')\n",
        "\n",
        "def extract_keywords(text: str, stop_words) -> set:\n",
        "    \"\"\"Извлекает ключевые слова, исключая стоп-слова и короткие токены.\"\"\"\n",
        "    words = text.lower().split()\n",
        "    return {word for word in words if word not in stop_words and len(word) > 3}\n",
        "\n",
        "def hallucination_score(contexts: List[str], model_output: str) -> float:\n",
        "    \"\"\"Оценивает степень галлюцинации ответа модели по сравнению с контекстом.\n",
        "\n",
        "    Вычисляет метрику, показывающую, насколько ответ модели соответствует заданным контекстам.\n",
        "    Использует комбинацию BLEU-оценки, пересечения ключевых слов (Jaccard similarity) и штрафа\n",
        "    за неожиданные слова. Итоговое значение находится в диапазоне от 0 (полная галлюцинация)\n",
        "    до 1 (полное соответствие).\n",
        "\n",
        "    Args:\n",
        "        contexts (List[str]): Список строк, представляющих контексты для сравнения.\n",
        "        model_output (str): Ответ модели, который нужно оценить.\n",
        "\n",
        "    Returns:\n",
        "        float: Оценка от 0 до 1, где 1 — полное соответствие контексту, 0 — полная галлюцинация.\n",
        "\n",
        "    Raises:\n",
        "        ZeroDivisionError: Возможна ошибка деления на ноль в BLEU-оценке, обрабатывается внутри функции.\n",
        "\n",
        "    Examples:\n",
        "        >>> contexts = [\"Я иду в магазин за хлебом\"]\n",
        "        >>> model_output = \"Я иду в магазин за хлебом и молоком\"\n",
        "        >>> hallucination_score(contexts, model_output)\n",
        "        0.63  # Примерное значение, зависит от BLEU и пересечения\n",
        "    \"\"\"\n",
        "\n",
        "    stop_words = set(stopwords.words('russian'))  # Стоп-слова для русского языка\n",
        "\n",
        "    # Извлекаем ключевые слова из всех контекстов\n",
        "    context_keywords = set()\n",
        "    for context in contexts:\n",
        "        context_keywords.update(extract_keywords(context, stop_words))\n",
        "\n",
        "    # Ключевые слова из ответа модели\n",
        "    output_keywords = extract_keywords(model_output, stop_words)\n",
        "\n",
        "    # Jaccard similarity (не штрафуем, если ответ короче, но точен)\n",
        "    keyword_overlap = len(context_keywords & output_keywords) / max(len(output_keywords), 1)\n",
        "\n",
        "    # BLEU-оценка (с униграммами и биграммами)\n",
        "    bleu_scores = []\n",
        "    for context in contexts:\n",
        "        try:\n",
        "            score = bleu_score.sentence_bleu(\n",
        "                references=[context.split()],\n",
        "                hypothesis=model_output.split(),\n",
        "                weights=(0.7, 0.3, 0, 0)  # Униграммы (70%) и биграммы (30%)\n",
        "            )\n",
        "            bleu_scores.append(score)\n",
        "        except ZeroDivisionError:\n",
        "            bleu_scores.append(0)\n",
        "\n",
        "    bleu_mean = np.mean(bleu_scores) if bleu_scores else 0.0\n",
        "\n",
        "    # Штраф за неожиданные слова (только если они действительно выбиваются из контекста)\n",
        "    unexpected_words = output_keywords - context_keywords\n",
        "    if unexpected_words:\n",
        "        unexpected_penalty = len(unexpected_words) / (len(output_keywords) + 1e-6)\n",
        "    else:\n",
        "        unexpected_penalty = 0  # Если нет неожиданных слов, штрафа нет\n",
        "\n",
        "    # Итоговый коэффициент (BLEU + семантическое пересечение - штраф за ошибки)\n",
        "    final_score = (0.6 * bleu_mean + 0.4 * keyword_overlap) * (1 - unexpected_penalty)\n",
        "\n",
        "    return max(final_score, 0)  # Исключаем отрицательные значения\n"
      ],
      "metadata": {
        "colab": {
          "base_uri": "https://localhost:8080/"
        },
        "id": "ZFLtQQTOF3XM",
        "outputId": "d67d31f7-3e34-4854-dbe6-1a1bc04dbd23"
      },
      "execution_count": 2,
      "outputs": [
        {
          "output_type": "stream",
          "name": "stderr",
          "text": [
            "[nltk_data] Downloading package stopwords to /root/nltk_data...\n",
            "[nltk_data]   Unzipping corpora/stopwords.zip.\n"
          ]
        }
      ]
    },
    {
      "cell_type": "markdown",
      "source": [
        "Этот код предназначен для оценки степени галлюцинации (т. е. отклонения ответа модели от контекста (создаётся из информации из документов)). Он использует несколько методов анализа текста:\n",
        "\n",
        "1. Определяет extract_keywords: Извлекает ключевые слова из текста, убирая стоп-слова и короткие слова (меньше 4 символов).\n",
        "2. Определяет hallucination_score: Оценивает \"галлюцинацию\" ответа модели относительно контекста.\n",
        "3. Извлекает ключевые слова: Применяет extract_keywords к контекстам и ответу модели.\n",
        "Считает пересечение слов: Вычисляет долю общих ключевых слов между контекстом и ответом (Jaccard similarity).\n",
        "4. Считает BLEU-оценку: Оценивает совпадение униграмм и биграмм между контекстом и ответом (70% и 30% веса).\n",
        "5. Штрафует за лишние слова: Уменьшает оценку, если в ответе есть слова, отсутствующие в контексте.\n",
        "Комбинирует метрики: Итоговая оценка = (0.6 * BLEU + 0.4 * пересечение) * (1 - штраф).\n",
        "6. Возвращает результат: Выдает число от 0 до 1, где 1 — полное соответствие, 0 — полная галлюцинация.\n",
        "\n",
        "Код комбинирует несколько подходов (BLEU, пересечение ключевых слов, штраф за галлюцинации) для комплексной оценки точности ответа модели. Он полезен для анализа генеративных моделей, где важно минимизировать выдуманные элементы."
      ],
      "metadata": {
        "id": "5J7hjzERQYqf"
      }
    },
    {
      "cell_type": "code",
      "source": [
        "# Пример использования\n",
        "\n",
        "# Пример данных\n",
        "contexts = [\n",
        "    \"Для оформления материальной помощи на оплату общежития необходимо предоставить определенные медицинские документы, такие как справка по форме 086у или сертификат МОДФ.\",\n",
        "    \"Также нужно учесть, что условия предоставления мест и размещения в общежитиях различаются.\"\n",
        "     \"Более подробную информацию можно получить в Дирекции по управлению общежитиями, гостиницами, учебно-оздоровительными комплексами.\"\n",
        "]\n",
        "\n",
        "model_output_good = \"Для оформления материальной помощи на оплату общежития необходимо предоставить определенные медицинские документы\"\n",
        "model_output_bad = \"Интернет изобрел Илон Маск в 2010 году в гараже.\"\n",
        "\n",
        "# Проверка хорошего ответа\n",
        "good_score = hallucination_score(contexts, model_output_good)\n",
        "print(f\"Score для хорошего ответа: {good_score:.4f}\")\n",
        "\n",
        "# Проверка плохого (галлюцинирующего) ответа\n",
        "bad_score = hallucination_score(contexts, model_output_bad)\n",
        "print(f\"Score для плохого ответа: {bad_score:.4f}\")"
      ],
      "metadata": {
        "colab": {
          "base_uri": "https://localhost:8080/"
        },
        "id": "90YIcJkNMf8T",
        "outputId": "e1d780fb-a988-4449-8be3-6046e15cc399"
      },
      "execution_count": 6,
      "outputs": [
        {
          "output_type": "stream",
          "name": "stdout",
          "text": [
            "Score для хорошего ответа: 0.4406\n",
            "Score для плохого ответа: 0.0000\n"
          ]
        }
      ]
    },
    {
      "cell_type": "code",
      "source": [
        "# Number 3.\n",
        "# Пример 1\n",
        "model_output_1 = \"Для продления социальной стипендии необходимо подать заявку через сервис единого окна в модуле LMS, прикрепив отсканированные документы (личное заявление и документ, подтверждающий льготу).\"\n",
        "context_1 = [\"Дополнительные документы для продления социальной стипендии нужно предоставить в Центр стипендиальных и благотворительных программ НИУ ВШЭ. Это включает копию заявления и копию действующей справки МСЭ. Для продления социальной стипендии необходимо подать заявку через сервис единого окна в модуле LMS, прикрепив отсканированные документы (личное заявление и документ, подтверждающий льготу).\"]\n",
        "# Проверка хорошего ответа\n",
        "score = hallucination_score(context_1, model_output_1)\n",
        "print(f\"Score для хорошего ответа: {score:.4f}\")\n",
        "\n",
        "model_output_2 = \"Для продления социальной стипендии необходимо подать заявку через сервис единого окна в модуле SMART LMS, прикрепив отсканированные документы (Паспорт и водительские права).\"\n",
        "# Проверка плохого ответа\n",
        "score = hallucination_score(context_1, model_output_2)\n",
        "print(f\"Score для хорошего ответа: {score:.4f}\")"
      ],
      "metadata": {
        "colab": {
          "base_uri": "https://localhost:8080/"
        },
        "id": "LPXAfJ8hMmCT",
        "outputId": "3fd0de38-7fb0-4e08-f615-87b0ce55fa90"
      },
      "execution_count": 4,
      "outputs": [
        {
          "output_type": "stream",
          "name": "stdout",
          "text": [
            "Score для хорошего ответа: 0.6023\n",
            "Score для хорошего ответа: 0.3544\n"
          ]
        }
      ]
    }
  ],
  "metadata": {
    "colab": {
      "provenance": []
    },
    "kernelspec": {
      "display_name": "Python 3",
      "name": "python3"
    },
    "language_info": {
      "name": "python"
    }
  },
  "nbformat": 4,
  "nbformat_minor": 0
}